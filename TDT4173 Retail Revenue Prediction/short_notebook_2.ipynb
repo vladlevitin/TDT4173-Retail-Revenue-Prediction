{
 "cells": [
  {
   "cell_type": "markdown",
   "metadata": {},
   "source": [
    "# 1. Imports"
   ]
  },
  {
   "cell_type": "code",
   "execution_count": 1,
   "metadata": {},
   "outputs": [],
   "source": [
    "import pandas as pd\n",
    "import numpy as np"
   ]
  },
  {
   "cell_type": "markdown",
   "metadata": {},
   "source": [
    "# 2. Data Preprocessing"
   ]
  },
  {
   "cell_type": "code",
   "execution_count": 2,
   "metadata": {},
   "outputs": [],
   "source": [
    "def convert_to_category(X):\n",
    "    for col in X.columns:\n",
    "        if ( (X[col].dtype != 'int64') and (X[col].dtype != 'float64') and (X[col].dtype != 'bool')):\n",
    "            X[col] = X[col].astype('category')\n",
    "            \n",
    "    return X"
   ]
  },
  {
   "cell_type": "code",
   "execution_count": 3,
   "metadata": {},
   "outputs": [
    {
     "name": "stderr",
     "output_type": "stream",
     "text": [
      "c:\\Users\\levit\\.pyenv\\pyenv-win\\versions\\3.10.7\\lib\\site-packages\\pandas\\core\\internals\\blocks.py:402: RuntimeWarning: divide by zero encountered in log\n",
      "  result = func(self.values, **kwargs)\n"
     ]
    }
   ],
   "source": [
    "stores_train = pd.read_csv('data/stores_train_with_extra_features.csv')\n",
    "stores_test = pd.read_csv('data/stores_test_with_extra_features.csv')\n",
    "\n",
    "plaace_hierarchy = pd.read_csv('data/plaace_hierarchy.csv')\n",
    "grunnkrets = pd.read_csv('data/grunnkrets_norway_stripped.csv')\n",
    "grunnkrets_ages = pd.read_csv('data/grunnkrets_age_distribution.csv')\n",
    "grunnkrets_household_types = pd.read_csv('data/grunnkrets_households_num_persons.csv')\n",
    "grunnkrets_household_income = pd.read_csv('data/grunnkrets_income_households.csv')\n",
    "\n",
    "\n",
    "stores_train_copy= stores_train.copy()\n",
    "\n",
    "plaace_hierarchy_copy = plaace_hierarchy.copy()\n",
    "plaace_hierarchy_copy.drop(columns='sales_channel_name', inplace=True)\n",
    "plaace_hierarchy_copy['lv1'] = plaace_hierarchy_copy['lv1'].astype('category')\n",
    "plaace_hierarchy_copy['lv2'] = plaace_hierarchy_copy['lv2'].astype('category')\n",
    "\n",
    "\n",
    "grunnkrets_copy = grunnkrets.copy()\n",
    "grunnkrets_copy.rename(columns={'year': 'year_1'}, inplace=True)\n",
    "\n",
    "grunnkrets_ages_copy = grunnkrets_ages.copy()\n",
    "grunnkrets_ages_copy.rename(columns={'year': 'year_2'}, inplace=True)\n",
    "grunnkrets_ages_copy['grunnkrets_population'] = grunnkrets_ages_copy.iloc[:, 2:].sum(axis=1)\n",
    "\n",
    "grunnkrets_household_types_copy = grunnkrets_household_types.copy()\n",
    "grunnkrets_household_types_copy.rename(columns={'year': 'year_3'}, inplace=True)\n",
    "grunnkrets_household_types_copy[grunnkrets_household_types_copy.columns[2:]] = grunnkrets_household_types_copy[grunnkrets_household_types_copy.columns[2:]].astype('int64')\n",
    "\n",
    "grunnkrets_household_income_copy = grunnkrets_household_income.copy()\n",
    "grunnkrets_household_income_copy.rename(columns={'year': 'year_4', 'singles': 'singles_income','couple_without_children':'couple_without_children_income'}, inplace=True)\n",
    "grunnkrets_household_income_copy.rename(columns={'singles': 'singles_income', }, inplace=True)\n",
    "\n",
    "    \n",
    "\n",
    "df = stores_train_copy\n",
    "\n",
    "df = pd.merge(df, plaace_hierarchy_copy, on='plaace_hierarchy_id', how='left')\n",
    "df = pd.merge(df, grunnkrets_copy, on='grunnkrets_id', how='left')\n",
    "df = pd.merge(df, grunnkrets_ages_copy, on='grunnkrets_id', how='left')\n",
    "df = pd.merge(df, grunnkrets_household_types_copy, on='grunnkrets_id', how='left')\n",
    "df = pd.merge(df, grunnkrets_household_income_copy, on='grunnkrets_id', how='left')\n",
    "\n",
    "\n",
    "\n",
    "df['grunnkrets_population_density'] = df['grunnkrets_population'] / df['area_km2']\n",
    "\n",
    "\n",
    "df.drop_duplicates(subset=['store_id'], keep='first', inplace=True)\n",
    "df.reset_index(drop=True, inplace=True)\n",
    "\n",
    "\n",
    "\n",
    "columns_to_drop = [\n",
    "                  'store_id',\n",
    "                  'plaace_hierarchy_id',\n",
    "                  'grunnkrets_id',\n",
    "                  'year',\n",
    "                  'address',\n",
    "                  'store_name',\n",
    "                  'year_1',\n",
    "                  'geometry',\n",
    "                  'grunnkrets_name',\n",
    "                  'district_name',\n",
    "                  'municipality_name',\n",
    "                  'year_2',\n",
    "                  'year_3',\n",
    "                  'year_4',\n",
    "                  'sales_channel_name',\n",
    "                  'lv1',\n",
    "                  'lv2',\n",
    "                  'lv3',\n",
    "                  'lv4',\n",
    "                  ]\n",
    "\n",
    "\n",
    "X = df.drop(columns=columns_to_drop)\n",
    "X = convert_to_category(X)\n",
    "\n",
    "X['revenue'] = np.log1p(X['revenue'])\n",
    "\n",
    "\n",
    "y = df.revenue\n",
    "y = np.log1p(y)\n",
    "\n",
    "\n",
    "categorical_features = X.select_dtypes(include=['category']).columns\n",
    "numerical_columns = X.select_dtypes(include=['int64', 'float64']).columns\n",
    "\n",
    "\n",
    "X[numerical_columns] = np.log(X[numerical_columns])\n",
    "X['revenue'] = np.exp(X['revenue'])"
   ]
  },
  {
   "cell_type": "code",
   "execution_count": 4,
   "metadata": {},
   "outputs": [
    {
     "name": "stderr",
     "output_type": "stream",
     "text": [
      "c:\\Users\\levit\\.pyenv\\pyenv-win\\versions\\3.10.7\\lib\\site-packages\\pandas\\core\\internals\\blocks.py:402: RuntimeWarning: divide by zero encountered in log\n",
      "  result = func(self.values, **kwargs)\n"
     ]
    }
   ],
   "source": [
    "stores_test_copy = stores_test.copy()\n",
    "\n",
    "df = stores_test_copy\n",
    "\n",
    "df = pd.merge(df, plaace_hierarchy_copy, on='plaace_hierarchy_id', how='left')\n",
    "df = pd.merge(df, grunnkrets_copy, on='grunnkrets_id', how='left')\n",
    "df = pd.merge(df, grunnkrets_ages_copy, on='grunnkrets_id', how='left')\n",
    "df = pd.merge(df, grunnkrets_household_types_copy, on='grunnkrets_id', how='left')\n",
    "df = pd.merge(df, grunnkrets_household_income_copy, on='grunnkrets_id', how='left')\n",
    "\n",
    "df.drop_duplicates(subset=['store_id'], keep='first', inplace=True)\n",
    "df['grunnkrets_population_density'] = df['grunnkrets_population'] / df['area_km2']\n",
    "\n",
    "X_test = df.drop(columns = columns_to_drop)\n",
    "X_test = convert_to_category(X_test)\n",
    "\n",
    "\n",
    "numerical_columns = X_test.select_dtypes(include=['int64', 'float64']).columns\n",
    "\n",
    "X_test[numerical_columns] = np.log(X_test[numerical_columns])"
   ]
  },
  {
   "cell_type": "markdown",
   "metadata": {},
   "source": [
    "# 3. Model"
   ]
  },
  {
   "cell_type": "code",
   "execution_count": 5,
   "metadata": {},
   "outputs": [
    {
     "name": "stdout",
     "output_type": "stream",
     "text": [
      "Checking whether there is an H2O instance running at http://localhost:54321 . connected.\n"
     ]
    },
    {
     "data": {
      "text/html": [
       "\n",
       "<style>\n",
       "\n",
       "#h2o-table-1.h2o-container {\n",
       "  overflow-x: auto;\n",
       "}\n",
       "#h2o-table-1 .h2o-table {\n",
       "  /* width: 100%; */\n",
       "  margin-top: 1em;\n",
       "  margin-bottom: 1em;\n",
       "}\n",
       "#h2o-table-1 .h2o-table caption {\n",
       "  white-space: nowrap;\n",
       "  caption-side: top;\n",
       "  text-align: left;\n",
       "  /* margin-left: 1em; */\n",
       "  margin: 0;\n",
       "  font-size: larger;\n",
       "}\n",
       "#h2o-table-1 .h2o-table thead {\n",
       "  white-space: nowrap; \n",
       "  position: sticky;\n",
       "  top: 0;\n",
       "  box-shadow: 0 -1px inset;\n",
       "}\n",
       "#h2o-table-1 .h2o-table tbody {\n",
       "  overflow: auto;\n",
       "}\n",
       "#h2o-table-1 .h2o-table th,\n",
       "#h2o-table-1 .h2o-table td {\n",
       "  text-align: right;\n",
       "  /* border: 1px solid; */\n",
       "}\n",
       "#h2o-table-1 .h2o-table tr:nth-child(even) {\n",
       "  /* background: #F5F5F5 */\n",
       "}\n",
       "\n",
       "</style>      \n",
       "<div id=\"h2o-table-1\" class=\"h2o-container\">\n",
       "  <table class=\"h2o-table\">\n",
       "    <caption></caption>\n",
       "    <thead></thead>\n",
       "    <tbody><tr><td>H2O_cluster_uptime:</td>\n",
       "<td>23 mins 46 secs</td></tr>\n",
       "<tr><td>H2O_cluster_timezone:</td>\n",
       "<td>Europe/Oslo</td></tr>\n",
       "<tr><td>H2O_data_parsing_timezone:</td>\n",
       "<td>UTC</td></tr>\n",
       "<tr><td>H2O_cluster_version:</td>\n",
       "<td>3.38.0.2</td></tr>\n",
       "<tr><td>H2O_cluster_version_age:</td>\n",
       "<td>17 days </td></tr>\n",
       "<tr><td>H2O_cluster_name:</td>\n",
       "<td>H2O_from_python_levit_fgfmpc</td></tr>\n",
       "<tr><td>H2O_cluster_total_nodes:</td>\n",
       "<td>1</td></tr>\n",
       "<tr><td>H2O_cluster_free_memory:</td>\n",
       "<td>7.572 Gb</td></tr>\n",
       "<tr><td>H2O_cluster_total_cores:</td>\n",
       "<td>16</td></tr>\n",
       "<tr><td>H2O_cluster_allowed_cores:</td>\n",
       "<td>16</td></tr>\n",
       "<tr><td>H2O_cluster_status:</td>\n",
       "<td>locked, healthy</td></tr>\n",
       "<tr><td>H2O_connection_url:</td>\n",
       "<td>http://localhost:54321</td></tr>\n",
       "<tr><td>H2O_connection_proxy:</td>\n",
       "<td>{\"http\": null, \"https\": null}</td></tr>\n",
       "<tr><td>H2O_internal_security:</td>\n",
       "<td>False</td></tr>\n",
       "<tr><td>Python_version:</td>\n",
       "<td>3.10.7 final</td></tr></tbody>\n",
       "  </table>\n",
       "</div>\n"
      ],
      "text/plain": [
       "--------------------------  -----------------------------\n",
       "H2O_cluster_uptime:         23 mins 46 secs\n",
       "H2O_cluster_timezone:       Europe/Oslo\n",
       "H2O_data_parsing_timezone:  UTC\n",
       "H2O_cluster_version:        3.38.0.2\n",
       "H2O_cluster_version_age:    17 days\n",
       "H2O_cluster_name:           H2O_from_python_levit_fgfmpc\n",
       "H2O_cluster_total_nodes:    1\n",
       "H2O_cluster_free_memory:    7.572 Gb\n",
       "H2O_cluster_total_cores:    16\n",
       "H2O_cluster_allowed_cores:  16\n",
       "H2O_cluster_status:         locked, healthy\n",
       "H2O_connection_url:         http://localhost:54321\n",
       "H2O_connection_proxy:       {\"http\": null, \"https\": null}\n",
       "H2O_internal_security:      False\n",
       "Python_version:             3.10.7 final\n",
       "--------------------------  -----------------------------"
      ]
     },
     "metadata": {},
     "output_type": "display_data"
    }
   ],
   "source": [
    "import h2o\n",
    "h2o.init()"
   ]
  },
  {
   "cell_type": "code",
   "execution_count": 6,
   "metadata": {},
   "outputs": [
    {
     "name": "stdout",
     "output_type": "stream",
     "text": [
      "Parse progress: |████████████████████████████████████████████████████████████████| (done) 100%\n"
     ]
    }
   ],
   "source": [
    "train = h2o.H2OFrame(X)\n",
    "\n",
    "x = train.columns\n",
    "y = \"revenue\"\n",
    "x.remove(y)"
   ]
  },
  {
   "cell_type": "code",
   "execution_count": null,
   "metadata": {},
   "outputs": [],
   "source": [
    "from h2o.automl import H2OAutoML\n",
    "\n",
    "aml = H2OAutoML(max_models=175, seed=1, sort_metric='RMSE')\n",
    "aml.train(x=x, y=y, training_frame=train)"
   ]
  },
  {
   "cell_type": "code",
   "execution_count": null,
   "metadata": {},
   "outputs": [],
   "source": [
    "test = h2o.H2OFrame(X_test)"
   ]
  },
  {
   "cell_type": "code",
   "execution_count": null,
   "metadata": {},
   "outputs": [],
   "source": [
    "y_pred = aml.leader.predict(test)\n",
    "preds = np.expm1(y_pred.as_data_frame())"
   ]
  },
  {
   "cell_type": "code",
   "execution_count": null,
   "metadata": {},
   "outputs": [],
   "source": [
    "submission = pd.DataFrame()\n",
    "submission['id'] = stores_test['store_id']\n",
    "submission['predicted'] = np.asarray(preds)\n",
    "\n",
    "submission.to_csv('sample_submission_H20_175.csv', index=False)\n",
    "submission"
   ]
  }
 ],
 "metadata": {
  "kernelspec": {
   "display_name": "Python 3.10.7 64-bit ('3.10.7')",
   "language": "python",
   "name": "python3"
  },
  "language_info": {
   "codemirror_mode": {
    "name": "ipython",
    "version": 3
   },
   "file_extension": ".py",
   "mimetype": "text/x-python",
   "name": "python",
   "nbconvert_exporter": "python",
   "pygments_lexer": "ipython3",
   "version": "3.10.7"
  },
  "orig_nbformat": 4,
  "vscode": {
   "interpreter": {
    "hash": "0e748b08df6639b92156e1f0a2e584fc605f942beb5319c4ded409ee9197cfce"
   }
  }
 },
 "nbformat": 4,
 "nbformat_minor": 2
}
