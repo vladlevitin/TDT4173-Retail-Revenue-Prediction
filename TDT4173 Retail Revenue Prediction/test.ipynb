{
 "cells": [
  {
   "cell_type": "code",
   "execution_count": 113,
   "metadata": {},
   "outputs": [],
   "source": [
    "import pandas as pd\n",
    "\n",
    "stores_train = pd.read_csv('data/stores_train.csv')\n",
    "stores_test = pd.read_csv('data/stores_test.csv')\n",
    "plaace_hierarchy = pd.read_csv('data/plaace_hierarchy.csv')\n",
    "\n",
    "\n",
    "stores_train_copy= stores_train.copy()\n",
    "stores_test_copy= stores_test.copy()\n",
    "\n",
    "plaace_hierarchy_copy = plaace_hierarchy.copy()\n",
    "plaace_hierarchy_copy.drop(columns=['sales_channel_name'], inplace=True)\n",
    "\n",
    "plaace_hierarchy_copy['lv2'] = plaace_hierarchy_copy['lv2'].astype('category')\n",
    "plaace_hierarchy_copy['lv2'] = plaace_hierarchy_copy['lv2'].astype('category')\n",
    "\n",
    "df = stores_train_copy\n",
    "\n",
    "df = pd.merge(df, plaace_hierarchy_copy, how='left', on='plaace_hierarchy_id')\n",
    "\n",
    "busstops = pd.read_csv('data/busstops_norway.csv')\n",
    "busstops_copy = busstops.copy()\n",
    "busstops_copy['busstop_lat'] = busstops_copy['geometry'].apply(lambda x: float(x.split(' ')[1][:-1]))\n",
    "busstops_copy['busstop_lon'] = busstops_copy['geometry'].apply(lambda x: float(x.split(' ')[0][6:]))"
   ]
  },
  {
   "cell_type": "code",
   "execution_count": 1,
   "metadata": {},
   "outputs": [],
   "source": [
    "from haversine import haversine, Unit\n",
    "import time\n",
    "import numpy as np\n",
    "\n",
    "\n",
    "def find_closest_busstop(lat, lon):\n",
    "    distances = busstops_copy.apply(lambda x: haversine((lat, lon), (x['busstop_lat'], x['busstop_lon']), unit=Unit.METERS), axis=1)\n",
    "    return distances.min()\n",
    "\n",
    "\n",
    "stores_train_copy['closest_busstop'] = stores_train_copy.apply(lambda x: find_closest_busstop(x['lat'], x['lon']), axis=1)\n",
    "stores_test_copy['closest_busstop'] = stores_test_copy.apply(lambda x: find_closest_busstop(x['lat'], x['lon']), axis=1)\n",
    "\n",
    "\n",
    "stores_train_copy.to_csv('data/stores_train_with_busstops.csv', index=False)\n",
    "stores_test_copy.to_csv('data/stores_test_with_busstops.csv', index=False)\n"
   ]
  },
  {
   "cell_type": "code",
   "execution_count": null,
   "metadata": {},
   "outputs": [],
   "source": [
    "from haversine import haversine, Unit\n",
    "\n",
    "def count_closest_stores(lat, lon, lv2, col, radius):\n",
    "    distances = df[df[col] == lv2].apply(lambda x: haversine((lat, lon), (x['lat'], x['lon']), unit=Unit.METERS), axis=1)\n",
    "    return len(distances[distances < radius] > 0)\n",
    "\n",
    "radius = 500\n",
    "\n",
    "col = 'lv2_desc'\n",
    "\n",
    "df_train['num_closest_stores_lv2'] = df_train.apply(lambda x: count_closest_stores(x['lat'], x['lon'], x['lv2_desc'], col, 500), axis=1)\n",
    "df_test['num_closest_stores_lv2'] = df_test.apply(lambda x: count_closest_stores(x['lat'], x['lon'], x['lv2_desc'], col, 500), axis=1)\n",
    "\n",
    "df_train[['store_id','num_closest_stores_lv2_500m']].to_csv('stores_train_num_closest_stores_lv2_500m.csv', index=False)\n",
    "df_test[['store_id','num_closest_stores_lv2_500m']].to_csv('stores_test_num_closest_stores_lv2_500m.csv', index=False)\n"
   ]
  }
 ],
 "metadata": {
  "kernelspec": {
   "display_name": "Python 3.10.7 64-bit ('3.10.7')",
   "language": "python",
   "name": "python3"
  },
  "language_info": {
   "codemirror_mode": {
    "name": "ipython",
    "version": 3
   },
   "file_extension": ".py",
   "mimetype": "text/x-python",
   "name": "python",
   "nbconvert_exporter": "python",
   "pygments_lexer": "ipython3",
   "version": "3.10.7"
  },
  "orig_nbformat": 4,
  "vscode": {
   "interpreter": {
    "hash": "0e748b08df6639b92156e1f0a2e584fc605f942beb5319c4ded409ee9197cfce"
   }
  }
 },
 "nbformat": 4,
 "nbformat_minor": 2
}
