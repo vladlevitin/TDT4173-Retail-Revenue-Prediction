{
 "cells": [
  {
   "cell_type": "markdown",
   "metadata": {},
   "source": [
    "# 1. Imports"
   ]
  },
  {
   "cell_type": "code",
   "execution_count": null,
   "metadata": {},
   "outputs": [],
   "source": [
    "import pandas as pd\n",
    "import numpy as np"
   ]
  },
  {
   "cell_type": "markdown",
   "metadata": {},
   "source": [
    "# 2. Data Preprocessing"
   ]
  },
  {
   "cell_type": "code",
   "execution_count": null,
   "metadata": {},
   "outputs": [],
   "source": [
    "def convert_to_category(X):\n",
    "    for col in X.columns:\n",
    "        if ( (X[col].dtype != 'int64') and (X[col].dtype != 'float64') and (X[col].dtype != 'bool')):\n",
    "            X[col] = X[col].astype('category')\n",
    "            \n",
    "    return X"
   ]
  },
  {
   "cell_type": "code",
   "execution_count": null,
   "metadata": {},
   "outputs": [],
   "source": [
    "stores_train = pd.read_csv('data/stores_train_with_extra_features.csv')\n",
    "stores_test = pd.read_csv('data/stores_test_with_extra_features.csv')\n",
    "\n",
    "plaace_hierarchy = pd.read_csv('data/plaace_hierarchy.csv')\n",
    "grunnkrets = pd.read_csv('data/grunnkrets_norway_stripped.csv')\n",
    "grunnkrets_ages = pd.read_csv('data/grunnkrets_age_distribution.csv')\n",
    "grunnkrets_household_types = pd.read_csv('data/grunnkrets_households_num_persons.csv')\n",
    "grunnkrets_household_income = pd.read_csv('data/grunnkrets_income_households.csv')\n",
    "\n",
    "\n",
    "stores_train_copy= stores_train.copy()\n",
    "\n",
    "plaace_hierarchy_copy = plaace_hierarchy.copy()\n",
    "plaace_hierarchy_copy.drop(columns='sales_channel_name', inplace=True)\n",
    "plaace_hierarchy_copy['lv1'] = plaace_hierarchy_copy['lv1'].astype('category')\n",
    "plaace_hierarchy_copy['lv2'] = plaace_hierarchy_copy['lv2'].astype('category')\n",
    "\n",
    "\n",
    "grunnkrets_copy = grunnkrets.copy()\n",
    "grunnkrets_copy.rename(columns={'year': 'year_1'}, inplace=True)\n",
    "\n",
    "grunnkrets_ages_copy = grunnkrets_ages.copy()\n",
    "grunnkrets_ages_copy.rename(columns={'year': 'year_2'}, inplace=True)\n",
    "grunnkrets_ages_copy['grunnkrets_population'] = grunnkrets_ages_copy.iloc[:, 2:].sum(axis=1)\n",
    "\n",
    "grunnkrets_household_types_copy = grunnkrets_household_types.copy()\n",
    "grunnkrets_household_types_copy.rename(columns={'year': 'year_3'}, inplace=True)\n",
    "grunnkrets_household_types_copy[grunnkrets_household_types_copy.columns[2:]] = grunnkrets_household_types_copy[grunnkrets_household_types_copy.columns[2:]].astype('int64')\n",
    "\n",
    "grunnkrets_household_income_copy = grunnkrets_household_income.copy()\n",
    "grunnkrets_household_income_copy.rename(columns={'year': 'year_4', 'singles': 'singles_income','couple_without_children':'couple_without_children_income'}, inplace=True)\n",
    "grunnkrets_household_income_copy.rename(columns={'singles': 'singles_income', }, inplace=True)\n",
    "\n",
    "    \n",
    "\n",
    "df = stores_train_copy\n",
    "\n",
    "df = pd.merge(df, plaace_hierarchy_copy, on='plaace_hierarchy_id', how='left')\n",
    "df = pd.merge(df, grunnkrets_copy, on='grunnkrets_id', how='left')\n",
    "df = pd.merge(df, grunnkrets_ages_copy, on='grunnkrets_id', how='left')\n",
    "df = pd.merge(df, grunnkrets_household_types_copy, on='grunnkrets_id', how='left')\n",
    "df = pd.merge(df, grunnkrets_household_income_copy, on='grunnkrets_id', how='left')\n",
    "\n",
    "\n",
    "\n",
    "df['grunnkrets_population_density'] = df['grunnkrets_population'] / df['area_km2']\n",
    "\n",
    "\n",
    "df.drop_duplicates(subset=['store_id'], keep='first', inplace=True)\n",
    "df.reset_index(drop=True, inplace=True)\n",
    "\n",
    "\n",
    "\n",
    "columns_to_drop = [\n",
    "                  'store_id',\n",
    "                  'plaace_hierarchy_id',\n",
    "                  'grunnkrets_id',\n",
    "                  'year',\n",
    "                  'address',\n",
    "                  'store_name',\n",
    "                  'year_1',\n",
    "                  'geometry',\n",
    "                  'grunnkrets_name',\n",
    "                  'district_name',\n",
    "                  'municipality_name',\n",
    "                  'year_2',\n",
    "                  'year_3',\n",
    "                  'year_4',\n",
    "                  'sales_channel_name',\n",
    "                  'lv1',\n",
    "                  'lv2',\n",
    "                  'lv3',\n",
    "                  'lv4',\n",
    "                  ]\n",
    "\n",
    "\n",
    "X = df.drop(columns=columns_to_drop)\n",
    "X = convert_to_category(X)\n",
    "\n",
    "X['revenue'] = np.log1p(X['revenue'])\n",
    "\n",
    "\n",
    "y = df.revenue\n",
    "y = np.log1p(y)\n",
    "\n",
    "\n",
    "categorical_features = X.select_dtypes(include=['category']).columns\n",
    "numerical_columns = X.select_dtypes(include=['int64', 'float64']).columns\n",
    "\n",
    "\n",
    "X[numerical_columns] = np.log(X[numerical_columns])\n",
    "X['revenue'] = np.exp(X['revenue'])"
   ]
  },
  {
   "cell_type": "code",
   "execution_count": null,
   "metadata": {},
   "outputs": [],
   "source": [
    "stores_test_copy = stores_test.copy()\n",
    "\n",
    "df = stores_test_copy\n",
    "\n",
    "df = pd.merge(df, plaace_hierarchy_copy, on='plaace_hierarchy_id', how='left')\n",
    "df = pd.merge(df, grunnkrets_copy, on='grunnkrets_id', how='left')\n",
    "df = pd.merge(df, grunnkrets_ages_copy, on='grunnkrets_id', how='left')\n",
    "df = pd.merge(df, grunnkrets_household_types_copy, on='grunnkrets_id', how='left')\n",
    "df = pd.merge(df, grunnkrets_household_income_copy, on='grunnkrets_id', how='left')\n",
    "\n",
    "df.drop_duplicates(subset=['store_id'], keep='first', inplace=True)\n",
    "df['grunnkrets_population_density'] = df['grunnkrets_population'] / df['area_km2']\n",
    "\n",
    "X_test = df.drop(columns = columns_to_drop)\n",
    "X_test = convert_to_category(X_test)\n",
    "\n",
    "\n",
    "numerical_columns = X_test.select_dtypes(include=['int64', 'float64']).columns\n",
    "\n",
    "X_test[numerical_columns] = np.log(X_test[numerical_columns])"
   ]
  },
  {
   "cell_type": "markdown",
   "metadata": {},
   "source": [
    "# 3. Model"
   ]
  },
  {
   "cell_type": "code",
   "execution_count": null,
   "metadata": {},
   "outputs": [],
   "source": [
    "import h2o\n",
    "h2o.init()"
   ]
  },
  {
   "cell_type": "code",
   "execution_count": null,
   "metadata": {},
   "outputs": [],
   "source": [
    "train = h2o.H2OFrame(X)\n",
    "\n",
    "x = train.columns\n",
    "y = \"revenue\"\n",
    "x.remove(y)"
   ]
  }
 ],
 "metadata": {
  "kernelspec": {
   "display_name": "Python 3.10.7 64-bit ('3.10.7')",
   "language": "python",
   "name": "python3"
  },
  "language_info": {
   "name": "python",
   "version": "3.10.7"
  },
  "orig_nbformat": 4,
  "vscode": {
   "interpreter": {
    "hash": "0e748b08df6639b92156e1f0a2e584fc605f942beb5319c4ded409ee9197cfce"
   }
  }
 },
 "nbformat": 4,
 "nbformat_minor": 2
}
