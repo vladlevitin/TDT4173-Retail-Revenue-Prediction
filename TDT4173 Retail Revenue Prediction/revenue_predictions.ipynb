{
 "cells": [
  {
   "cell_type": "markdown",
   "metadata": {},
   "source": [
    "# Imports"
   ]
  },
  {
   "cell_type": "code",
   "execution_count": 26,
   "metadata": {},
   "outputs": [],
   "source": [
    "from sklearn import *\n",
    "import lightgbm as lgb\n",
    "import xgboost as xgb\n",
    "import catboost as cat\n",
    "from sklearn.model_selection import train_test_split\n",
    "from sqlalchemy import column\n",
    "\n",
    "from sklearn.compose import make_column_transformer\n",
    "from sklearn.linear_model import LinearRegression\n",
    "from sklearn.pipeline import make_pipeline\n",
    "from sklearn.model_selection import cross_val_score\n",
    "from sklearn.preprocessing import OneHotEncoder\n",
    "from sklearn.preprocessing import OrdinalEncoder\n",
    "from sklearn.compose import ColumnTransformer\n",
    "from sklearn.model_selection import train_test_split\n",
    "from sklearn.preprocessing import LabelEncoder\n",
    "from sklearn.experimental import enable_iterative_imputer\n",
    "from sklearn.impute import IterativeImputer\n",
    "from sklearn.ensemble import RandomForestRegressor, RandomForestClassifier\n",
    "from sklearn.impute import KNNImputer\n",
    "from sklearn.impute import SimpleImputer\n"
   ]
  },
  {
   "cell_type": "markdown",
   "metadata": {},
   "source": [
    "# Helpers"
   ]
  },
  {
   "cell_type": "code",
   "execution_count": 27,
   "metadata": {},
   "outputs": [],
   "source": [
    "import numpy as np \n",
    "\n",
    "def rmsle(y_true, y_pred):\n",
    "    \"\"\"\n",
    "    Computes the Root Mean Squared Logarithmic Error \n",
    "    \n",
    "    Args:\n",
    "        y_true (np.array): n-dimensional vector of ground-truth values \n",
    "        y_pred (np.array): n-dimensional vecotr of predicted values \n",
    "    \n",
    "    Returns:\n",
    "        A scalar float with the rmsle value \n",
    "    \n",
    "    Note: You can alternatively use sklearn and just do: \n",
    "        `sklearn.metrics.mean_squared_log_error(y_true, y_pred) ** 0.5`\n",
    "    \"\"\"\n",
    "    assert (y_true >= 0).all(), 'Received negative y_true values'\n",
    "    assert (y_pred >= 0).all(), 'Received negative y_pred values'\n",
    "    assert y_true.shape == y_pred.shape, 'y_true and y_pred have different shapes'\n",
    "    y_true_log1p = np.log1p(y_true)  # log(1 + y_true)\n",
    "    y_pred_log1p = np.log1p(y_pred)  # log(1 + y_pred)\n",
    "    return np.sqrt(np.mean(np.square(y_pred_log1p - y_true_log1p)))\n",
    "\n",
    "def convert_to_category(X):\n",
    "    for col in X.columns:\n",
    "        if ( (X[col].dtype != 'int64') and (X[col].dtype != 'float64') and (X[col].dtype != 'bool')):\n",
    "            X[col] = X[col].astype('category')\n",
    "            \n",
    "    return X\n"
   ]
  },
  {
   "cell_type": "markdown",
   "metadata": {},
   "source": [
    "# Data"
   ]
  },
  {
   "cell_type": "code",
   "execution_count": 28,
   "metadata": {},
   "outputs": [],
   "source": [
    "import pandas as pd\n",
    "\n",
    "stores_train = pd.read_csv('data/stores_train.csv')\n",
    "stores_test = pd.read_csv('data/stores_test.csv')\n",
    "plaace_hierarchy = pd.read_csv('data/plaace_hierarchy.csv')\n",
    "grunnkrets = pd.read_csv('data/grunnkrets_norway_stripped.csv')\n",
    "grunnkrets_ages = pd.read_csv('data/grunnkrets_age_distribution.csv')\n",
    "grunnkrets_household_types = pd.read_csv('data/grunnkrets_households_num_persons.csv')\n",
    "grunnkrets_household_income = pd.read_csv('data/grunnkrets_income_households.csv')\n",
    "busstops = pd.read_csv('data/busstops_norway.csv')"
   ]
  },
  {
   "cell_type": "code",
   "execution_count": 29,
   "metadata": {},
   "outputs": [],
   "source": [
    "stores_train_copy= stores_train.copy()\n",
    "\n",
    "# plaace_hierarchy\n",
    "plaace_hierarchy_copy = plaace_hierarchy.copy()\n",
    "plaace_hierarchy_copy.drop(columns=['sales_channel_name'], inplace=True)\n",
    "\n",
    "plaace_hierarchy_copy['lv1'] = plaace_hierarchy_copy['lv1'].astype('category')\n",
    "plaace_hierarchy_copy['lv2'] = plaace_hierarchy_copy['lv2'].astype('category')\n",
    "\n",
    "# grunnkrets\n",
    "grunnkrets_copy = grunnkrets.copy()\n",
    "grunnkrets_copy.drop_duplicates(subset=['grunnkrets_id'], keep='first', inplace=True)\n",
    "\n",
    "\n",
    "# grunnkrets_ages\n",
    "grunnkrets_ages_copy = grunnkrets_ages.copy()\n",
    "grunnkrets_ages_copy.drop_duplicates(subset=['grunnkrets_id'], keep='first', inplace=True)\n",
    "\n",
    "\n",
    "# grunnkrets_household_types\n",
    "grunnkrets_household_types_copy = grunnkrets_household_types.copy()\n",
    "for household_type in grunnkrets_household_types_copy.columns[2:]:\n",
    "    grunnkrets_household_types_copy[household_type] = grunnkrets_household_types_copy[household_type].astype('category')\n",
    "grunnkrets_household_types_copy.drop_duplicates(subset=['grunnkrets_id'], keep='first', inplace=True)\n",
    "\n",
    "\n",
    "# grunnkrets_household_income\n",
    "grunnkrets_household_income_copy = grunnkrets_household_income.copy()\n",
    "grunnkrets_household_income_copy.rename(columns={'singles':'singles_income', 'couple_without_children':'couple_without_children_income'}, inplace=True)\n",
    "grunnkrets_household_income_copy.drop_duplicates(subset=['grunnkrets_id'], keep='first', inplace=True)\n",
    "\n",
    "\n",
    "grunnkrets_copy.rename(columns={'year': 'year_1'}, inplace=True)\n",
    "grunnkrets_ages_copy.rename(columns={'year': 'year_2'}, inplace=True)\n",
    "grunnkrets_household_types_copy.rename(columns={'year': 'year_3'}, inplace=True)\n",
    "grunnkrets_household_income_copy.rename(columns={'year': 'year_4'}, inplace=True)\n",
    "\n",
    "df = stores_train_copy\n",
    "df = pd.merge(df, plaace_hierarchy_copy, on='plaace_hierarchy_id', how='left')\n",
    "df = pd.merge(df, grunnkrets_copy, on='grunnkrets_id', how='left')\n",
    "df = pd.merge(df, grunnkrets_ages_copy, on='grunnkrets_id', how='left')\n",
    "df = pd.merge(df, grunnkrets_household_types_copy, on='grunnkrets_id', how='left')\n",
    "df = pd.merge(df, grunnkrets_household_income_copy, on='grunnkrets_id', how='left')\n"
   ]
  },
  {
   "cell_type": "code",
   "execution_count": 30,
   "metadata": {},
   "outputs": [],
   "source": [
    "columns_to_drop = [\n",
    "                    'revenue',\n",
    "                    # 'store_id',\n",
    "                    # 'plaace_hierarchy_id',\n",
    "                    # 'grunnkrets_id',\n",
    "                    # 'geometry',\n",
    "                    # 'address',\n",
    "                    # 'year',\n",
    "                    # 'year_1',\n",
    "                    # 'year_2',\n",
    "                    # 'year_3',\n",
    "                    # 'year_4',\n",
    "                  ]\n",
    "\n",
    "X = df.drop(columns=columns_to_drop)\n",
    "X = convert_to_category(X)\n",
    "\n",
    "categorical_features = list(X.select_dtypes(include=['category']).columns)"
   ]
  },
  {
   "cell_type": "markdown",
   "metadata": {},
   "source": [
    "### Scaling"
   ]
  },
  {
   "cell_type": "code",
   "execution_count": 32,
   "metadata": {},
   "outputs": [],
   "source": [
    "columns_to_scale = [\n",
    "    'lat', 'lon', 'area_km2',\n",
    "                     'all_households', 'singles_income', 'couple_without_children_income', 'couple_with_children', 'other_households', 'single_parent_with_children',\n",
    "                     ]\n",
    "\n",
    "scaler = preprocessing.StandardScaler()\n",
    "scaler.fit(X[columns_to_scale])\n",
    "X[columns_to_scale] = scaler.transform(X[columns_to_scale])\n"
   ]
  },
  {
   "cell_type": "markdown",
   "metadata": {},
   "source": [
    "# Encoding"
   ]
  },
  {
   "cell_type": "code",
   "execution_count": 33,
   "metadata": {},
   "outputs": [],
   "source": [
    "full_pipeline = ColumnTransformer([('cat', OneHotEncoder(handle_unknown='ignore'), categorical_features)], remainder='passthrough')\n",
    "\n",
    "encoder = full_pipeline.fit(X)\n",
    "X_encoded = encoder.transform(X)"
   ]
  },
  {
   "cell_type": "code",
   "execution_count": null,
   "metadata": {},
   "outputs": [],
   "source": []
  }
 ],
 "metadata": {
  "kernelspec": {
   "display_name": "Python 3.10.7 64-bit ('3.10.7')",
   "language": "python",
   "name": "python3"
  },
  "language_info": {
   "codemirror_mode": {
    "name": "ipython",
    "version": 3
   },
   "file_extension": ".py",
   "mimetype": "text/x-python",
   "name": "python",
   "nbconvert_exporter": "python",
   "pygments_lexer": "ipython3",
   "version": "3.10.7"
  },
  "orig_nbformat": 4,
  "vscode": {
   "interpreter": {
    "hash": "0e748b08df6639b92156e1f0a2e584fc605f942beb5319c4ded409ee9197cfce"
   }
  }
 },
 "nbformat": 4,
 "nbformat_minor": 2
}
